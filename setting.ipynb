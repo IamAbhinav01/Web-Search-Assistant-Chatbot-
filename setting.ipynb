{
 "cells": [
  {
   "cell_type": "code",
   "execution_count": 54,
   "id": "31e795f9",
   "metadata": {},
   "outputs": [],
   "source": [
    "from langchain_community.utilities import WikipediaAPIWrapper,DuckDuckGoSearchAPIWrapper,SearxSearchWrapper\n",
    "from langchain_community.tools import WikipediaQueryRun,DuckDuckGoSearchRun,SearxSearchRun"
   ]
  },
  {
   "cell_type": "code",
   "execution_count": 55,
   "id": "7320e7ff",
   "metadata": {},
   "outputs": [],
   "source": [
    "wiki_wrapper=WikipediaAPIWrapper(top_k_results=1,doc_content_chars_max=250)\n",
    "duck_wrapper=DuckDuckGoSearchAPIWrapper(max_results=1,source='news')\n",
    "search_wrap=SearxSearchWrapper(searx_host=\"http://127.0.0.1:8888\")"
   ]
  },
  {
   "cell_type": "code",
   "execution_count": 56,
   "id": "d5d81a31",
   "metadata": {},
   "outputs": [],
   "source": [
    "wiki=WikipediaQueryRun(api_wrapper=wiki_wrapper)\n",
    "duck=DuckDuckGoSearchRun(api_wrapper=duck_wrapper)\n",
    "search = SearxSearchRun(wrapper=search_wrap, response_format='content_and_artifact',description=\"Use this tool to perform a general web search when other tools don't have sufficient information.\")"
   ]
  },
  {
   "cell_type": "code",
   "execution_count": 57,
   "id": "2a57766d",
   "metadata": {},
   "outputs": [],
   "source": [
    "tools=[wiki,duck,search]"
   ]
  },
  {
   "cell_type": "code",
   "execution_count": 58,
   "id": "745a7662",
   "metadata": {},
   "outputs": [],
   "source": [
    "from langchain_ollama import ChatOllama\n",
    "from langchain.agents import initialize_agent, AgentType, create_tool_calling_agent\n",
    "from langchain_core.chat_history import InMemoryChatMessageHistory\n",
    "from langchain_core.prompts import ChatPromptTemplate\n",
    "from langchain_core.runnables.history import RunnableWithMessageHistory\n",
    "from langchain_core.tools import tool"
   ]
  },
  {
   "cell_type": "code",
   "execution_count": 59,
   "id": "956a3e7f",
   "metadata": {},
   "outputs": [],
   "source": [
    "model = ChatOllama(model=\"mistral\")"
   ]
  },
  {
   "cell_type": "code",
   "execution_count": 60,
   "id": "153a972b",
   "metadata": {},
   "outputs": [],
   "source": [
    "memory = InMemoryChatMessageHistory(session_id=\"test-session\")"
   ]
  },
  {
   "cell_type": "code",
   "execution_count": 61,
   "id": "3f038bea",
   "metadata": {},
   "outputs": [],
   "source": [
    "prompt = ChatPromptTemplate.from_messages(\n",
    "    [\n",
    "        (\"system\", \"You are a helpful assistant.\"),\n",
    "        # First put the history\n",
    "        (\"placeholder\", \"{chat_history}\"),\n",
    "        # Then the new input\n",
    "        (\"human\", \"{input}\"),\n",
    "        # Finally the scratchpad\n",
    "        (\"placeholder\", \"{agent_scratchpad}\"),\n",
    "    ]\n",
    ")"
   ]
  },
  {
   "cell_type": "code",
   "execution_count": 62,
   "id": "a395af24",
   "metadata": {},
   "outputs": [],
   "source": [
    "tools = tools"
   ]
  },
  {
   "cell_type": "code",
   "execution_count": 63,
   "id": "3eea1ced",
   "metadata": {},
   "outputs": [
    {
     "data": {
      "text/plain": [
       "AgentExecutor(verbose=True, tags=['conversational-react-description'], agent=ConversationalAgent(llm_chain=LLMChain(verbose=False, prompt=PromptTemplate(input_variables=['agent_scratchpad', 'chat_history', 'input'], input_types={}, partial_variables={}, template=\"Assistant is a large language model trained by OpenAI.\\n\\nAssistant is designed to be able to assist with a wide range of tasks, from answering simple questions to providing in-depth explanations and discussions on a wide range of topics. As a language model, Assistant is able to generate human-like text based on the input it receives, allowing it to engage in natural-sounding conversations and provide responses that are coherent and relevant to the topic at hand.\\n\\nAssistant is constantly learning and improving, and its capabilities are constantly evolving. It is able to process and understand large amounts of text, and can use this knowledge to provide accurate and informative responses to a wide range of questions. Additionally, Assistant is able to generate its own text based on the input it receives, allowing it to engage in discussions and provide explanations and descriptions on a wide range of topics.\\n\\nOverall, Assistant is a powerful tool that can help with a wide range of tasks and provide valuable insights and information on a wide range of topics. Whether you need help with a specific question or just want to have a conversation about a particular topic, Assistant is here to assist.\\n\\nTOOLS:\\n------\\n\\nAssistant has access to the following tools:\\n\\n> wikipedia: A wrapper around Wikipedia. Useful for when you need to answer general questions about people, places, companies, facts, historical events, or other subjects. Input should be a search query.\\n> duckduckgo_search: A wrapper around DuckDuckGo Search. Useful for when you need to answer questions about current events. Input should be a search query.\\n> searx_search: Use this tool to perform a general web search when other tools don't have sufficient information.\\n\\nTo use a tool, please use the following format:\\n\\n```\\nThought: Do I need to use a tool? Yes\\nAction: the action to take, should be one of [wikipedia, duckduckgo_search, searx_search]\\nAction Input: the input to the action\\nObservation: the result of the action\\n```\\n\\nWhen you have a response to say to the Human, or if you do not need to use a tool, you MUST use the format:\\n\\n```\\nThought: Do I need to use a tool? No\\nAI: [your response here]\\n```\\n\\nBegin!\\n\\nPrevious conversation history:\\n{chat_history}\\n\\nNew input: {input}\\n{agent_scratchpad}\"), llm=ChatOllama(model='mistral'), output_parser=StrOutputParser(), llm_kwargs={}), output_parser=ConvoOutputParser(), allowed_tools=['wikipedia', 'duckduckgo_search', 'searx_search'], ai_prefix='AI'), tools=[WikipediaQueryRun(api_wrapper=WikipediaAPIWrapper(wiki_client=<module 'wikipedia' from 'a:\\\\langchain\\\\lib\\\\site-packages\\\\wikipedia\\\\__init__.py'>, top_k_results=1, lang='en', load_all_available_meta=False, doc_content_chars_max=250)), DuckDuckGoSearchRun(api_wrapper=DuckDuckGoSearchAPIWrapper(region='wt-wt', safesearch='moderate', time='y', max_results=1, backend='auto', source='news')), SearxSearchRun(description=\"Use this tool to perform a general web search when other tools don't have sufficient information.\", response_format='content_and_artifact', wrapper=SearxSearchWrapper(searx_host='http://127.0.0.1:8888', unsecure=True, params={'language': 'en', 'format': 'json'}, headers=None, engines=[], categories=[], query_suffix='', k=10, aiosession=None), kwargs={})])"
      ]
     },
     "execution_count": 63,
     "metadata": {},
     "output_type": "execute_result"
    }
   ],
   "source": [
    "agent = create_tool_calling_agent(model, tools, prompt)\n",
    "initialize_agent(\n",
    "    tools,\n",
    "    model,\n",
    "    agent=AgentType.CONVERSATIONAL_REACT_DESCRIPTION,  # best for chat-based + memory\n",
    "    verbose=True\n",
    ")"
   ]
  },
  {
   "cell_type": "code",
   "execution_count": 64,
   "id": "2f6b87ac",
   "metadata": {},
   "outputs": [],
   "source": [
    "agent_with_chat_history = RunnableWithMessageHistory(\n",
    "    agent_executor,\n",
    "    # This is needed because in most real world scenarios, a session id is needed\n",
    "    # It isn't really used here because we are using a simple in memory ChatMessageHistory\n",
    "    lambda session_id: memory,\n",
    "    input_messages_key=\"input\",\n",
    "    history_messages_key=\"chat_history\",\n",
    ")"
   ]
  },
  {
   "cell_type": "code",
   "execution_count": 65,
   "id": "b1834c39",
   "metadata": {},
   "outputs": [],
   "source": [
    "config = {\"configurable\": {\"session_id\": \"test-session\"}}"
   ]
  },
  {
   "cell_type": "code",
   "execution_count": null,
   "id": "4bae04bd",
   "metadata": {},
   "outputs": [],
   "source": [
    "agent_with_chat_history.invoke(\n",
    "        {\"input\": \"Search the web for latest trends in AI.\"}, config\n",
    "    )['output']"
   ]
  },
  {
   "cell_type": "code",
   "execution_count": null,
   "id": "29ca7b80",
   "metadata": {},
   "outputs": [
    {
     "data": {
      "text/plain": [
       "' Before this, you asked for the latest trends in Artificial Intelligence (AI).'"
      ]
     },
     "execution_count": 53,
     "metadata": {},
     "output_type": "execute_result"
    }
   ],
   "source": [
    "agent_with_chat_history.invoke(\n",
    "        {\"input\": \"What did I just ask before this?\"}, config\n",
    "    )['output']"
   ]
  },
  {
   "cell_type": "code",
   "execution_count": null,
   "id": "d8374cab",
   "metadata": {},
   "outputs": [],
   "source": []
  }
 ],
 "metadata": {
  "kernelspec": {
   "display_name": "langchain",
   "language": "python",
   "name": "python3"
  },
  "language_info": {
   "codemirror_mode": {
    "name": "ipython",
    "version": 3
   },
   "file_extension": ".py",
   "mimetype": "text/x-python",
   "name": "python",
   "nbconvert_exporter": "python",
   "pygments_lexer": "ipython3",
   "version": "3.10.9"
  }
 },
 "nbformat": 4,
 "nbformat_minor": 5
}
